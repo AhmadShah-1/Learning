{
 "cells": [
  {
   "cell_type": "markdown",
   "id": "4b879a4e-122c-495a-bd26-a3efd31b219c",
   "metadata": {},
   "source": [
    "# Install Dependencies"
   ]
  },
  {
   "cell_type": "code",
   "execution_count": 1,
   "id": "6deeac51-9e0c-4934-a319-62cc8bc2028d",
   "metadata": {},
   "outputs": [
    {
     "name": "stdout",
     "output_type": "stream",
     "text": [
      "Requirement already satisfied: stable-baselines3 in c:\\users\\ahmad\\appdata\\local\\programs\\python\\python312\\lib\\site-packages (2.3.2)\n",
      "Requirement already satisfied: gymnasium==0.28.1 in c:\\users\\ahmad\\appdata\\local\\programs\\python\\python312\\lib\\site-packages (0.28.1)\n",
      "Requirement already satisfied: numpy>=1.21.0 in c:\\users\\ahmad\\appdata\\local\\programs\\python\\python312\\lib\\site-packages (from gymnasium==0.28.1) (1.26.3)\n",
      "Requirement already satisfied: jax-jumpy>=1.0.0 in c:\\users\\ahmad\\appdata\\local\\programs\\python\\python312\\lib\\site-packages (from gymnasium==0.28.1) (1.0.0)\n",
      "Requirement already satisfied: cloudpickle>=1.2.0 in c:\\users\\ahmad\\appdata\\local\\programs\\python\\python312\\lib\\site-packages (from gymnasium==0.28.1) (3.0.0)\n",
      "Requirement already satisfied: typing-extensions>=4.3.0 in c:\\users\\ahmad\\appdata\\local\\programs\\python\\python312\\lib\\site-packages (from gymnasium==0.28.1) (4.11.0)\n",
      "Requirement already satisfied: farama-notifications>=0.0.1 in c:\\users\\ahmad\\appdata\\local\\programs\\python\\python312\\lib\\site-packages (from gymnasium==0.28.1) (0.0.4)\n",
      "Requirement already satisfied: torch>=1.13 in c:\\users\\ahmad\\appdata\\local\\programs\\python\\python312\\lib\\site-packages (from stable-baselines3) (2.3.0)\n",
      "Requirement already satisfied: pandas in c:\\users\\ahmad\\appdata\\local\\programs\\python\\python312\\lib\\site-packages (from stable-baselines3) (2.2.1)\n",
      "Requirement already satisfied: matplotlib in c:\\users\\ahmad\\appdata\\local\\programs\\python\\python312\\lib\\site-packages (from stable-baselines3) (3.8.2)\n",
      "Requirement already satisfied: filelock in c:\\users\\ahmad\\appdata\\local\\programs\\python\\python312\\lib\\site-packages (from torch>=1.13->stable-baselines3) (3.14.0)\n",
      "Requirement already satisfied: sympy in c:\\users\\ahmad\\appdata\\local\\programs\\python\\python312\\lib\\site-packages (from torch>=1.13->stable-baselines3) (1.12)\n",
      "Requirement already satisfied: networkx in c:\\users\\ahmad\\appdata\\local\\programs\\python\\python312\\lib\\site-packages (from torch>=1.13->stable-baselines3) (3.3)\n",
      "Requirement already satisfied: jinja2 in c:\\users\\ahmad\\appdata\\local\\programs\\python\\python312\\lib\\site-packages (from torch>=1.13->stable-baselines3) (3.1.3)\n",
      "Requirement already satisfied: fsspec in c:\\users\\ahmad\\appdata\\local\\programs\\python\\python312\\lib\\site-packages (from torch>=1.13->stable-baselines3) (2024.2.0)\n",
      "Requirement already satisfied: mkl<=2021.4.0,>=2021.1.1 in c:\\users\\ahmad\\appdata\\local\\programs\\python\\python312\\lib\\site-packages (from torch>=1.13->stable-baselines3) (2021.4.0)\n",
      "Requirement already satisfied: contourpy>=1.0.1 in c:\\users\\ahmad\\appdata\\local\\programs\\python\\python312\\lib\\site-packages (from matplotlib->stable-baselines3) (1.2.0)\n",
      "Requirement already satisfied: cycler>=0.10 in c:\\users\\ahmad\\appdata\\local\\programs\\python\\python312\\lib\\site-packages (from matplotlib->stable-baselines3) (0.10.0)\n",
      "Requirement already satisfied: fonttools>=4.22.0 in c:\\users\\ahmad\\appdata\\local\\programs\\python\\python312\\lib\\site-packages (from matplotlib->stable-baselines3) (4.47.0)\n",
      "Requirement already satisfied: kiwisolver>=1.3.1 in c:\\users\\ahmad\\appdata\\local\\programs\\python\\python312\\lib\\site-packages (from matplotlib->stable-baselines3) (1.4.5)\n",
      "Requirement already satisfied: packaging>=20.0 in c:\\users\\ahmad\\appdata\\local\\programs\\python\\python312\\lib\\site-packages (from matplotlib->stable-baselines3) (23.2)\n",
      "Requirement already satisfied: pillow>=8 in c:\\users\\ahmad\\appdata\\local\\programs\\python\\python312\\lib\\site-packages (from matplotlib->stable-baselines3) (10.2.0)\n",
      "Requirement already satisfied: pyparsing>=2.3.1 in c:\\users\\ahmad\\appdata\\local\\programs\\python\\python312\\lib\\site-packages (from matplotlib->stable-baselines3) (3.1.1)\n",
      "Requirement already satisfied: python-dateutil>=2.7 in c:\\users\\ahmad\\appdata\\local\\programs\\python\\python312\\lib\\site-packages (from matplotlib->stable-baselines3) (2.8.2)\n",
      "Requirement already satisfied: pytz>=2020.1 in c:\\users\\ahmad\\appdata\\local\\programs\\python\\python312\\lib\\site-packages (from pandas->stable-baselines3) (2024.1)\n",
      "Requirement already satisfied: tzdata>=2022.7 in c:\\users\\ahmad\\appdata\\local\\programs\\python\\python312\\lib\\site-packages (from pandas->stable-baselines3) (2024.1)\n",
      "Requirement already satisfied: six in c:\\users\\ahmad\\appdata\\local\\programs\\python\\python312\\lib\\site-packages (from cycler>=0.10->matplotlib->stable-baselines3) (1.16.0)\n",
      "Requirement already satisfied: intel-openmp==2021.* in c:\\users\\ahmad\\appdata\\local\\programs\\python\\python312\\lib\\site-packages (from mkl<=2021.4.0,>=2021.1.1->torch>=1.13->stable-baselines3) (2021.4.0)\n",
      "Requirement already satisfied: tbb==2021.* in c:\\users\\ahmad\\appdata\\local\\programs\\python\\python312\\lib\\site-packages (from mkl<=2021.4.0,>=2021.1.1->torch>=1.13->stable-baselines3) (2021.12.0)\n",
      "Requirement already satisfied: MarkupSafe>=2.0 in c:\\users\\ahmad\\appdata\\local\\programs\\python\\python312\\lib\\site-packages (from jinja2->torch>=1.13->stable-baselines3) (2.1.5)\n",
      "Requirement already satisfied: mpmath>=0.19 in c:\\users\\ahmad\\appdata\\local\\programs\\python\\python312\\lib\\site-packages (from sympy->torch>=1.13->stable-baselines3) (1.3.0)\n"
     ]
    },
    {
     "name": "stderr",
     "output_type": "stream",
     "text": [
      "\n",
      "[notice] A new release of pip is available: 23.2.1 -> 24.1.2\n",
      "[notice] To update, run: python.exe -m pip install --upgrade pip\n"
     ]
    },
    {
     "name": "stdout",
     "output_type": "stream",
     "text": [
      "Requirement already satisfied: gym in c:\\users\\ahmad\\appdata\\local\\programs\\python\\python312\\lib\\site-packages (0.26.2)\n",
      "Requirement already satisfied: numpy>=1.18.0 in c:\\users\\ahmad\\appdata\\local\\programs\\python\\python312\\lib\\site-packages (from gym) (1.26.3)\n",
      "Requirement already satisfied: cloudpickle>=1.2.0 in c:\\users\\ahmad\\appdata\\local\\programs\\python\\python312\\lib\\site-packages (from gym) (3.0.0)\n",
      "Requirement already satisfied: gym-notices>=0.0.4 in c:\\users\\ahmad\\appdata\\local\\programs\\python\\python312\\lib\\site-packages (from gym) (0.0.8)\n"
     ]
    },
    {
     "name": "stderr",
     "output_type": "stream",
     "text": [
      "\n",
      "[notice] A new release of pip is available: 23.2.1 -> 24.1.2\n",
      "[notice] To update, run: python.exe -m pip install --upgrade pip\n"
     ]
    }
   ],
   "source": [
    "!pip install stable-baselines3 gymnasium==0.28.1\n",
    "!pip install gym\n"
   ]
  },
  {
   "cell_type": "code",
   "execution_count": 2,
   "id": "abd9b131-973f-4ec8-b197-827fb2b2818f",
   "metadata": {},
   "outputs": [],
   "source": [
    "import os\n",
    "\n",
    "# gym is openai gym (lets work with preexisitng enivorments)\n",
    "import gym \n",
    "\n",
    "# RL algorithm PPO (more on the baseline site)\n",
    "from stable_baselines3 import PPO\n",
    "\n",
    "# Wrapper on baseline\n",
    "from stable_baselines3.common.vec_env import DummyVecEnv\n",
    "\n",
    "# Makes it easier to test the models performance\n",
    "from stable_baselines3.common.evaluation import evaluate_policy"
   ]
  },
  {
   "cell_type": "markdown",
   "id": "a27cfd09-1d22-4b19-8b7e-8fe568062d1e",
   "metadata": {},
   "source": [
    "# Enviroments"
   ]
  },
  {
   "cell_type": "code",
   "execution_count": 12,
   "id": "ebeee4bb-47bc-4e19-a9b1-5e9a089e0f3f",
   "metadata": {},
   "outputs": [],
   "source": [
    "# A preinstalled openai enviroment\n",
    "environment_name = \"CartPole-v0\"\n",
    "env = gym.make(environment_name)"
   ]
  },
  {
   "cell_type": "code",
   "execution_count": 13,
   "id": "891a0d8d-9b4c-4629-a500-0a489b408245",
   "metadata": {},
   "outputs": [
    {
     "name": "stdout",
     "output_type": "stream",
     "text": [
      "Episode:1 Score:10.0\n",
      "Episode:2 Score:36.0\n",
      "Episode:3 Score:40.0\n",
      "Episode:4 Score:23.0\n",
      "Episode:5 Score:15.0\n"
     ]
    },
    {
     "name": "stderr",
     "output_type": "stream",
     "text": [
      "C:\\Users\\ahmad\\AppData\\Local\\Programs\\Python\\Python312\\Lib\\site-packages\\gym\\envs\\classic_control\\cartpole.py:211: UserWarning: \u001b[33mWARN: You are calling render method without specifying any render mode. You can specify the render_mode at initialization, e.g. gym(\"CartPole-v1\", render_mode=\"rgb_array\")\u001b[0m\n",
      "  gym.logger.warn(\n"
     ]
    }
   ],
   "source": [
    "# Loop through enviroment 5 times to see how to interact with it\n",
    "# Each episode is an entire iteration of the game the agent is training on\n",
    "\n",
    "episodes = 5\n",
    "for episode in range(1, episodes+1):\n",
    "\n",
    "    # env.reset is the observations for the enviroment not just the pole\n",
    "    # We will later be passing this to the agent for it to decide what action to take for the observation\n",
    "    state = env.reset()\n",
    "    done = False\n",
    "    score = 0 \n",
    "    \n",
    "    while not done:\n",
    "        env.render()\n",
    "\n",
    "        # Generate random action\n",
    "        action = env.action_space.sample()\n",
    "        \n",
    "        # Pass through random action\n",
    "        # Returns observations, reward (whether or not getting a positve change \"1\" \n",
    "        # or a negative change \"0\" or \"-1\"), boolean (signfiicying whether episode is done)\n",
    "        n_state, reward, done, info, truncated = env.step(action)\n",
    "        score+=reward\n",
    "    print('Episode:{} Score:{}'.format(episode, score))\n",
    "env.close()"
   ]
  },
  {
   "cell_type": "code",
   "execution_count": 14,
   "id": "e4e05f8c-d3ce-43be-910b-c157c50ded28",
   "metadata": {},
   "outputs": [
    {
     "data": {
      "text/plain": [
       "'\\nimport subprocess\\n\\n# Install the required packages using subprocess\\nsubprocess.run([\\'apt-get\\', \\'install\\', \\'-y\\', \\'xvfb\\'])\\nsubprocess.run([\\'pip\\', \\'install\\', \\'stable-baselines3[extra]\\'])\\nsubprocess.run([\\'pip\\', \\'install\\', \\'gym\\', \\'moviepy\\', \\'pyvirtualdisplay\\'])\\n\\nimport gym\\nimport moviepy.editor as mpy\\nimport numpy as np\\nfrom IPython.display import Video\\nfrom pyvirtualdisplay import Display\\nimport matplotlib.pyplot as plt\\n\\n# Function to create video from frames\\ndef create_video(frames, video_name):\\n    clip = mpy.ImageSequenceClip(frames, fps=30)\\n    clip.write_videofile(video_name, codec=\\'libx264\\')\\n\\n# Initialize the virtual display\\ndisplay = Display(visible=0, size=(1400, 900))\\ndisplay.start()\\n\\n# Initialize the environment\\nenv = gym.make(\\'CartPole-v1\\')\\n\\n# Loop through environment 5 times to see how to interact with it\\n# Each episode is an entire iteration of the game the agent is training on\\nepisodes = 5\\nall_frames = []  # To store frames for all episodes\\nfor episode in range(1, episodes+1):\\n\\n    # env.reset is the observations for the environment not just the pole\\n    # We will later be passing this to the agent for it to decide what action to take for the observation\\n    state = env.reset()\\n    done = False\\n    score = 0 \\n\\n    # *\\n    frames = []\\n\\n    while not done:\\n        # *\\n        # Code below is originally env.render()\\n        # Capture the frame for the video\\n        frame = env.render(mode=\\'rgb_array\\')\\n        frames.append(frame)\\n        \\n        # Generate random action\\n        action = env.action_space.sample()\\n        \\n        # Pass through random action\\n        # Returns observations, reward (whether or not getting a positive change \"1\" \\n        # or a negative change \"0\" or \"-1\"), boolean (signifying whether episode is done)\\n        n_state, reward, done, info = env.step(action)\\n        score += reward\\n    \\n    print(\\'Episode:{} Score:{}\\'.format(episode, score))\\n    all_frames.extend(frames)\\n\\nenv.close()\\n\\n# *\\n# Create the video from the frames captured\\ncreate_video(all_frames,\\n'"
      ]
     },
     "execution_count": 14,
     "metadata": {},
     "output_type": "execute_result"
    }
   ],
   "source": [
    "'''\n",
    "import subprocess\n",
    "\n",
    "# Install the required packages using subprocess\n",
    "subprocess.run(['apt-get', 'install', '-y', 'xvfb'])\n",
    "subprocess.run(['pip', 'install', 'stable-baselines3[extra]'])\n",
    "subprocess.run(['pip', 'install', 'gym', 'moviepy', 'pyvirtualdisplay'])\n",
    "\n",
    "import gym\n",
    "import moviepy.editor as mpy\n",
    "import numpy as np\n",
    "from IPython.display import Video\n",
    "from pyvirtualdisplay import Display\n",
    "import matplotlib.pyplot as plt\n",
    "\n",
    "# Function to create video from frames\n",
    "def create_video(frames, video_name):\n",
    "    clip = mpy.ImageSequenceClip(frames, fps=30)\n",
    "    clip.write_videofile(video_name, codec='libx264')\n",
    "\n",
    "# Initialize the virtual display\n",
    "display = Display(visible=0, size=(1400, 900))\n",
    "display.start()\n",
    "\n",
    "# Initialize the environment\n",
    "env = gym.make('CartPole-v1')\n",
    "\n",
    "# Loop through environment 5 times to see how to interact with it\n",
    "# Each episode is an entire iteration of the game the agent is training on\n",
    "episodes = 5\n",
    "all_frames = []  # To store frames for all episodes\n",
    "for episode in range(1, episodes+1):\n",
    "\n",
    "    # env.reset is the observations for the environment not just the pole\n",
    "    # We will later be passing this to the agent for it to decide what action to take for the observation\n",
    "    state = env.reset()\n",
    "    done = False\n",
    "    score = 0 \n",
    "\n",
    "    # *\n",
    "    frames = []\n",
    "\n",
    "    while not done:\n",
    "        # *\n",
    "        # Code below is originally env.render()\n",
    "        # Capture the frame for the video\n",
    "        frame = env.render(mode='rgb_array')\n",
    "        frames.append(frame)\n",
    "        \n",
    "        # Generate random action\n",
    "        action = env.action_space.sample()\n",
    "        \n",
    "        # Pass through random action\n",
    "        # Returns observations, reward (whether or not getting a positive change \"1\" \n",
    "        # or a negative change \"0\" or \"-1\"), boolean (signifying whether episode is done)\n",
    "        n_state, reward, done, info = env.step(action)\n",
    "        score += reward\n",
    "    \n",
    "    print('Episode:{} Score:{}'.format(episode, score))\n",
    "    all_frames.extend(frames)\n",
    "\n",
    "env.close()\n",
    "\n",
    "# *\n",
    "# Create the video from the frames captured\n",
    "create_video(all_frames,\n",
    "'''"
   ]
  },
  {
   "cell_type": "markdown",
   "id": "d0cc11ec-8949-42d7-888f-1b672da5578d",
   "metadata": {},
   "source": [
    "# Understanding the Enviroment\n",
    "\n",
    "There are two parts to our enviroment the action space and the observation space\n",
    "\n",
    "This site shows what each value from the action_space and observation space mean https://www.gymlibrary.dev/environments/classic_control/cart_pole/"
   ]
  },
  {
   "cell_type": "code",
   "execution_count": 20,
   "id": "0114e367-2f1b-44f8-9d11-ed8f2f3e46e7",
   "metadata": {},
   "outputs": [
    {
     "data": {
      "text/plain": [
       "Discrete(2)"
      ]
     },
     "execution_count": 20,
     "metadata": {},
     "output_type": "execute_result"
    }
   ],
   "source": [
    "# Shows type \n",
    "env.action_space"
   ]
  },
  {
   "cell_type": "code",
   "execution_count": 21,
   "id": "ed64f4d3-d9e5-4919-aed0-4888c738457b",
   "metadata": {},
   "outputs": [
    {
     "data": {
      "text/plain": [
       "1"
      ]
     },
     "execution_count": 21,
     "metadata": {},
     "output_type": "execute_result"
    }
   ],
   "source": [
    "# Shows example \n",
    "env.action_space.sample()"
   ]
  },
  {
   "cell_type": "code",
   "execution_count": 22,
   "id": "51031403-adbb-4881-8dbb-483cd9d61288",
   "metadata": {},
   "outputs": [
    {
     "data": {
      "text/plain": [
       "Box([-4.8000002e+00 -3.4028235e+38 -4.1887903e-01 -3.4028235e+38], [4.8000002e+00 3.4028235e+38 4.1887903e-01 3.4028235e+38], (4,), float32)"
      ]
     },
     "execution_count": 22,
     "metadata": {},
     "output_type": "execute_result"
    }
   ],
   "source": [
    "# Shows type \n",
    "env.observation_space"
   ]
  },
  {
   "cell_type": "code",
   "execution_count": 23,
   "id": "6941806b-ab59-4918-a840-3e21958bf4b8",
   "metadata": {},
   "outputs": [
    {
     "data": {
      "text/plain": [
       "array([-1.9466681e+00, -1.1294249e+38,  1.4181410e-01,  2.2559510e+38],\n",
       "      dtype=float32)"
      ]
     },
     "execution_count": 23,
     "metadata": {},
     "output_type": "execute_result"
    }
   ],
   "source": [
    "# Shows example \n",
    "env.observation_space.sample()"
   ]
  },
  {
   "cell_type": "markdown",
   "id": "d9e204cb-af60-4eae-a49b-618fa235423a",
   "metadata": {},
   "source": [
    "# Train an RL Model"
   ]
  },
  {
   "cell_type": "code",
   "execution_count": null,
   "id": "0352b6d0-7895-4489-b66e-25ad5c3c0208",
   "metadata": {},
   "outputs": [],
   "source": []
  }
 ],
 "metadata": {
  "kernelspec": {
   "display_name": "Python 3 (ipykernel)",
   "language": "python",
   "name": "python3"
  },
  "language_info": {
   "codemirror_mode": {
    "name": "ipython",
    "version": 3
   },
   "file_extension": ".py",
   "mimetype": "text/x-python",
   "name": "python",
   "nbconvert_exporter": "python",
   "pygments_lexer": "ipython3",
   "version": "3.12.0"
  }
 },
 "nbformat": 4,
 "nbformat_minor": 5
}
