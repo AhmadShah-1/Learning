{
 "cells": [
  {
   "cell_type": "markdown",
   "id": "4b879a4e-122c-495a-bd26-a3efd31b219c",
   "metadata": {},
   "source": [
    "# Install Dependencies"
   ]
  },
  {
   "cell_type": "code",
   "execution_count": 11,
   "id": "6deeac51-9e0c-4934-a319-62cc8bc2028d",
   "metadata": {},
   "outputs": [
    {
     "name": "stdout",
     "output_type": "stream",
     "text": [
      "Collecting stable-baselines3\n",
      "  Obtaining dependency information for stable-baselines3 from https://files.pythonhosted.org/packages/06/6a/c3098a78a63b5a48e18c11d80b8c532f8b7785d6abb1329cfe3034572161/stable_baselines3-2.3.2-py3-none-any.whl.metadata\n",
      "  Using cached stable_baselines3-2.3.2-py3-none-any.whl.metadata (5.1 kB)\n",
      "Collecting gymnasium==0.28.1\n",
      "  Obtaining dependency information for gymnasium==0.28.1 from https://files.pythonhosted.org/packages/60/82/3762ef4555791a729ae554e13c011efe5e8347d7eba9ea5ed245a8d1b234/gymnasium-0.28.1-py3-none-any.whl.metadata\n",
      "  Using cached gymnasium-0.28.1-py3-none-any.whl.metadata (9.2 kB)\n",
      "Requirement already satisfied: numpy>=1.21.0 in c:\\users\\ahmad\\appdata\\local\\programs\\python\\python312\\lib\\site-packages (from gymnasium==0.28.1) (1.26.3)\n",
      "Collecting jax-jumpy>=1.0.0 (from gymnasium==0.28.1)\n",
      "  Obtaining dependency information for jax-jumpy>=1.0.0 from https://files.pythonhosted.org/packages/73/23/338caee543d80584916da20f018aeb017764509d964fd347b97f41f97baa/jax_jumpy-1.0.0-py3-none-any.whl.metadata\n",
      "  Using cached jax_jumpy-1.0.0-py3-none-any.whl.metadata (15 kB)\n",
      "Requirement already satisfied: cloudpickle>=1.2.0 in c:\\users\\ahmad\\appdata\\local\\programs\\python\\python312\\lib\\site-packages (from gymnasium==0.28.1) (3.0.0)\n",
      "Requirement already satisfied: typing-extensions>=4.3.0 in c:\\users\\ahmad\\appdata\\local\\programs\\python\\python312\\lib\\site-packages (from gymnasium==0.28.1) (4.11.0)\n",
      "Collecting farama-notifications>=0.0.1 (from gymnasium==0.28.1)\n",
      "  Obtaining dependency information for farama-notifications>=0.0.1 from https://files.pythonhosted.org/packages/05/2c/ffc08c54c05cdce6fbed2aeebc46348dbe180c6d2c541c7af7ba0aa5f5f8/Farama_Notifications-0.0.4-py3-none-any.whl.metadata\n",
      "  Using cached Farama_Notifications-0.0.4-py3-none-any.whl.metadata (558 bytes)\n",
      "Requirement already satisfied: torch>=1.13 in c:\\users\\ahmad\\appdata\\local\\programs\\python\\python312\\lib\\site-packages (from stable-baselines3) (2.3.0)\n",
      "Requirement already satisfied: pandas in c:\\users\\ahmad\\appdata\\local\\programs\\python\\python312\\lib\\site-packages (from stable-baselines3) (2.2.1)\n",
      "Requirement already satisfied: matplotlib in c:\\users\\ahmad\\appdata\\local\\programs\\python\\python312\\lib\\site-packages (from stable-baselines3) (3.8.2)\n",
      "Requirement already satisfied: filelock in c:\\users\\ahmad\\appdata\\local\\programs\\python\\python312\\lib\\site-packages (from torch>=1.13->stable-baselines3) (3.14.0)\n",
      "Requirement already satisfied: sympy in c:\\users\\ahmad\\appdata\\local\\programs\\python\\python312\\lib\\site-packages (from torch>=1.13->stable-baselines3) (1.12)\n",
      "Requirement already satisfied: networkx in c:\\users\\ahmad\\appdata\\local\\programs\\python\\python312\\lib\\site-packages (from torch>=1.13->stable-baselines3) (3.3)\n",
      "Requirement already satisfied: jinja2 in c:\\users\\ahmad\\appdata\\local\\programs\\python\\python312\\lib\\site-packages (from torch>=1.13->stable-baselines3) (3.1.3)\n",
      "Requirement already satisfied: fsspec in c:\\users\\ahmad\\appdata\\local\\programs\\python\\python312\\lib\\site-packages (from torch>=1.13->stable-baselines3) (2024.2.0)\n",
      "Requirement already satisfied: mkl<=2021.4.0,>=2021.1.1 in c:\\users\\ahmad\\appdata\\local\\programs\\python\\python312\\lib\\site-packages (from torch>=1.13->stable-baselines3) (2021.4.0)\n",
      "Requirement already satisfied: contourpy>=1.0.1 in c:\\users\\ahmad\\appdata\\local\\programs\\python\\python312\\lib\\site-packages (from matplotlib->stable-baselines3) (1.2.0)\n",
      "Requirement already satisfied: cycler>=0.10 in c:\\users\\ahmad\\appdata\\local\\programs\\python\\python312\\lib\\site-packages (from matplotlib->stable-baselines3) (0.10.0)\n",
      "Requirement already satisfied: fonttools>=4.22.0 in c:\\users\\ahmad\\appdata\\local\\programs\\python\\python312\\lib\\site-packages (from matplotlib->stable-baselines3) (4.47.0)\n",
      "Requirement already satisfied: kiwisolver>=1.3.1 in c:\\users\\ahmad\\appdata\\local\\programs\\python\\python312\\lib\\site-packages (from matplotlib->stable-baselines3) (1.4.5)\n",
      "Requirement already satisfied: packaging>=20.0 in c:\\users\\ahmad\\appdata\\local\\programs\\python\\python312\\lib\\site-packages (from matplotlib->stable-baselines3) (23.2)\n",
      "Requirement already satisfied: pillow>=8 in c:\\users\\ahmad\\appdata\\local\\programs\\python\\python312\\lib\\site-packages (from matplotlib->stable-baselines3) (10.2.0)\n",
      "Requirement already satisfied: pyparsing>=2.3.1 in c:\\users\\ahmad\\appdata\\local\\programs\\python\\python312\\lib\\site-packages (from matplotlib->stable-baselines3) (3.1.1)\n",
      "Requirement already satisfied: python-dateutil>=2.7 in c:\\users\\ahmad\\appdata\\local\\programs\\python\\python312\\lib\\site-packages (from matplotlib->stable-baselines3) (2.8.2)\n",
      "Requirement already satisfied: pytz>=2020.1 in c:\\users\\ahmad\\appdata\\local\\programs\\python\\python312\\lib\\site-packages (from pandas->stable-baselines3) (2024.1)\n",
      "Requirement already satisfied: tzdata>=2022.7 in c:\\users\\ahmad\\appdata\\local\\programs\\python\\python312\\lib\\site-packages (from pandas->stable-baselines3) (2024.1)\n",
      "Requirement already satisfied: six in c:\\users\\ahmad\\appdata\\local\\programs\\python\\python312\\lib\\site-packages (from cycler>=0.10->matplotlib->stable-baselines3) (1.16.0)\n",
      "Requirement already satisfied: intel-openmp==2021.* in c:\\users\\ahmad\\appdata\\local\\programs\\python\\python312\\lib\\site-packages (from mkl<=2021.4.0,>=2021.1.1->torch>=1.13->stable-baselines3) (2021.4.0)\n",
      "Requirement already satisfied: tbb==2021.* in c:\\users\\ahmad\\appdata\\local\\programs\\python\\python312\\lib\\site-packages (from mkl<=2021.4.0,>=2021.1.1->torch>=1.13->stable-baselines3) (2021.12.0)\n",
      "Requirement already satisfied: MarkupSafe>=2.0 in c:\\users\\ahmad\\appdata\\local\\programs\\python\\python312\\lib\\site-packages (from jinja2->torch>=1.13->stable-baselines3) (2.1.5)\n",
      "Requirement already satisfied: mpmath>=0.19 in c:\\users\\ahmad\\appdata\\local\\programs\\python\\python312\\lib\\site-packages (from sympy->torch>=1.13->stable-baselines3) (1.3.0)\n",
      "Downloading gymnasium-0.28.1-py3-none-any.whl (925 kB)\n",
      "   ---------------------------------------- 0.0/925.5 kB ? eta -:--:--\n",
      "   - ------------------------------------- 30.7/925.5 kB 445.2 kB/s eta 0:00:03\n",
      "   --- ----------------------------------- 71.7/925.5 kB 787.7 kB/s eta 0:00:02\n",
      "   ---------- ----------------------------- 235.5/925.5 kB 1.6 MB/s eta 0:00:01\n",
      "   --------------- ------------------------ 368.6/925.5 kB 1.9 MB/s eta 0:00:01\n",
      "   ------------------- -------------------- 450.6/925.5 kB 1.9 MB/s eta 0:00:01\n",
      "   -------------------- ------------------- 481.3/925.5 kB 1.8 MB/s eta 0:00:01\n",
      "   ------------------------ --------------- 563.2/925.5 kB 1.7 MB/s eta 0:00:01\n",
      "   ------------------------------ --------- 696.3/925.5 kB 1.8 MB/s eta 0:00:01\n",
      "   ----------------------------------- ---- 829.4/925.5 kB 1.9 MB/s eta 0:00:01\n",
      "   ------------------------------------ --- 839.7/925.5 kB 1.8 MB/s eta 0:00:01\n",
      "   ---------------------------------------  921.6/925.5 kB 1.8 MB/s eta 0:00:01\n",
      "   ---------------------------------------- 925.5/925.5 kB 1.8 MB/s eta 0:00:00\n",
      "Downloading stable_baselines3-2.3.2-py3-none-any.whl (182 kB)\n",
      "   ---------------------------------------- 0.0/182.3 kB ? eta -:--:--\n",
      "   -------------------- ------------------- 92.2/182.3 kB 5.5 MB/s eta 0:00:01\n",
      "   -------------------------------------- - 174.1/182.3 kB 2.6 MB/s eta 0:00:01\n",
      "   ---------------------------------------- 182.3/182.3 kB 2.2 MB/s eta 0:00:00\n",
      "Using cached Farama_Notifications-0.0.4-py3-none-any.whl (2.5 kB)\n",
      "Downloading jax_jumpy-1.0.0-py3-none-any.whl (20 kB)\n",
      "Installing collected packages: farama-notifications, jax-jumpy, gymnasium, stable-baselines3\n",
      "Successfully installed farama-notifications-0.0.4 gymnasium-0.28.1 jax-jumpy-1.0.0 stable-baselines3-2.3.2\n"
     ]
    },
    {
     "name": "stderr",
     "output_type": "stream",
     "text": [
      "\n",
      "[notice] A new release of pip is available: 23.2.1 -> 24.1.2\n",
      "[notice] To update, run: python.exe -m pip install --upgrade pip\n"
     ]
    },
    {
     "name": "stdout",
     "output_type": "stream",
     "text": [
      "Requirement already satisfied: gym in c:\\users\\ahmad\\appdata\\local\\programs\\python\\python312\\lib\\site-packages (0.26.2)\n",
      "Requirement already satisfied: numpy>=1.18.0 in c:\\users\\ahmad\\appdata\\local\\programs\\python\\python312\\lib\\site-packages (from gym) (1.26.3)\n",
      "Requirement already satisfied: cloudpickle>=1.2.0 in c:\\users\\ahmad\\appdata\\local\\programs\\python\\python312\\lib\\site-packages (from gym) (3.0.0)\n",
      "Requirement already satisfied: gym-notices>=0.0.4 in c:\\users\\ahmad\\appdata\\local\\programs\\python\\python312\\lib\\site-packages (from gym) (0.0.8)\n"
     ]
    },
    {
     "name": "stderr",
     "output_type": "stream",
     "text": [
      "\n",
      "[notice] A new release of pip is available: 23.2.1 -> 24.1.2\n",
      "[notice] To update, run: python.exe -m pip install --upgrade pip\n"
     ]
    }
   ],
   "source": [
    "!pip install stable-baselines3 gymnasium==0.28.1\n",
    "!pip install gym\n"
   ]
  },
  {
   "cell_type": "code",
   "execution_count": 12,
   "id": "abd9b131-973f-4ec8-b197-827fb2b2818f",
   "metadata": {},
   "outputs": [],
   "source": [
    "import os\n",
    "\n",
    "# gym is openai gym (lets work with preexisitng enivorments)\n",
    "import gym \n",
    "\n",
    "# RL algorithm PPO (more on the baseline site)\n",
    "from stable_baselines3 import PPO\n",
    "\n",
    "# Wrapper on baseline\n",
    "from stable_baselines3.common.vec_env import DummyVecEnv\n",
    "\n",
    "# Makes it easier to test the models performance\n",
    "from stable_baselines3.common.evaluation import evaluate_policy"
   ]
  },
  {
   "cell_type": "markdown",
   "id": "a27cfd09-1d22-4b19-8b7e-8fe568062d1e",
   "metadata": {},
   "source": [
    "# Enviroments"
   ]
  },
  {
   "cell_type": "code",
   "execution_count": 16,
   "id": "ebeee4bb-47bc-4e19-a9b1-5e9a089e0f3f",
   "metadata": {},
   "outputs": [],
   "source": [
    "# A preinstalled openai enviroment\n",
    "environment_name = \"CartPole-v0\"\n",
    "env = gym.make(environment_name)"
   ]
  },
  {
   "cell_type": "code",
   "execution_count": 18,
   "id": "891a0d8d-9b4c-4629-a500-0a489b408245",
   "metadata": {},
   "outputs": [
    {
     "name": "stdout",
     "output_type": "stream",
     "text": [
      "Episode:1 Score:16.0\n",
      "Episode:2 Score:28.0\n",
      "Episode:3 Score:17.0\n",
      "Episode:4 Score:11.0\n",
      "Episode:5 Score:22.0\n"
     ]
    }
   ],
   "source": [
    "# Loop through enviroment 5 times to see how to interact with it\n",
    "# Each episode is an entire iteration of the game the agent is training on\n",
    "\n",
    "episodes = 5\n",
    "for episode in range(1, episodes+1):\n",
    "\n",
    "    # env.reset is the observations for the enviroment not just the pole\n",
    "    # We will later be passing this to the agent for it to decide what action to take for the observation\n",
    "    state = env.reset()\n",
    "    done = False\n",
    "    score = 0 \n",
    "    \n",
    "    while not done:\n",
    "        env.render()\n",
    "\n",
    "        # Generate random action\n",
    "        action = env.action_space.sample()\n",
    "        \n",
    "        # Pass through random action\n",
    "        # Returns observations, reward (whether or not getting a positve change \"1\" \n",
    "        # or a negative change \"0\" or \"-1\"), boolean (signfiicying whether episode is done)\n",
    "        n_state, reward, done, info, truncated = env.step(action)\n",
    "        score+=reward\n",
    "    print('Episode:{} Score:{}'.format(episode, score))\n",
    "env.close()k"
   ]
  },
  {
   "cell_type": "code",
   "execution_count": null,
   "id": "e4e05f8c-d3ce-43be-910b-c157c50ded28",
   "metadata": {},
   "outputs": [],
   "source": []
  },
  {
   "cell_type": "code",
   "execution_count": null,
   "id": "4665a21d-a05f-488e-90ce-69ff5609b44f",
   "metadata": {},
   "outputs": [],
   "source": []
  },
  {
   "cell_type": "code",
   "execution_count": null,
   "id": "ed64f4d3-d9e5-4919-aed0-4888c738457b",
   "metadata": {},
   "outputs": [],
   "source": []
  }
 ],
 "metadata": {
  "kernelspec": {
   "display_name": "Python 3 (ipykernel)",
   "language": "python",
   "name": "python3"
  },
  "language_info": {
   "codemirror_mode": {
    "name": "ipython",
    "version": 3
   },
   "file_extension": ".py",
   "mimetype": "text/x-python",
   "name": "python",
   "nbconvert_exporter": "python",
   "pygments_lexer": "ipython3",
   "version": "3.12.0"
  }
 },
 "nbformat": 4,
 "nbformat_minor": 5
}
